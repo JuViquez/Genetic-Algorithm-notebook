{
 "cells": [
  {
   "cell_type": "markdown",
   "metadata": {},
   "source": [
    "# Algoritmo genético \n",
    "---\n",
    "<br/>\n",
    "Un algoritmo matemático de búsqueda altamente paralelo que transforma un conjunto de objetos matemáticos individuales con respecto al tiempo usando operaciones modeladas de acuerdo al principio Darwiniano de reproducción y supervivencia del más apto, y tras haberse presentado de forma natural una serie de operaciones genéticas de entre las que destaca la recombinación sexual\n",
    "\n",
    "<br/>\n",
    "\n",
    "## Partes del algoritmo\n",
    "\n",
    "--- \n",
    "<br/>\n",
    "\n",
    "### Población  <br/>\n",
    "\n",
    "La población es un conjunto de cromosomas. La población inicial, la cual es generada aleatoriamente está constituida por un conjunto de cromosomas que representan las posibles soluciones del problema. En caso de no hacerlo aleatoriamente, es importante garantizar que dentro de la población inicial, se tenga la diversidad estructural de estas soluciones para tener una representación de la mayor parte de la población posible o al menos evitar la convergencia prematura. La población cambia con cada iteración del algoritmo. \n",
    "\n",
    "<br/>\n",
    "\n",
    "### Función de aptitud <br/>\n",
    "\n",
    "Esta función es la encargada de otorgar una calificación a cada cromosoma de la población que evalua, la calificación depende de que tan optimo es el cromosoma con respecto a la solución.\n",
    "<br/>\n",
    "\n",
    "### Selección <br/>\n",
    "\n",
    "Después de saber la aptitud de cada cromosoma se seleccionan los cromosomas que seran cruzados, los cromosomas con mayor aptitud serán tendrán mas probabilidad de ser seleccionados. \n",
    "<br/>\n",
    "\n",
    "### Cruzamiento <br/>\n",
    "\n",
    "El cruzamiento es el principal operador genético, representa la reproducción sexual, opera sobre dos cromosomas a la vez para generar dos descendientes donde se combinan las características de ambos cromosomas padres\n",
    "<br/>\n",
    "\n",
    "### Mutación <br/>\n",
    "\n",
    "Modifica al azar parte del cromosoma de los individuos generados después del cruzamiento, y permite alcanzar zonas del espacio de búsqueda que no estaban cubiertas por los individuos de la población actual. Generalmente solo se cambia una pequeña característica del cromosoma, por ejemplo, cambiar un solo bit aleatorio de 1 a 0\n",
    "\n",
    "### Reemplazo <br/>\n",
    "\n",
    "Una vez aplicado las operaciones de cruzamiento y mutación, se seleccionan los mejores cromosomas descendientes para que reemplacen a la población"
   ]
  },
  {
   "cell_type": "code",
   "execution_count": null,
   "metadata": {},
   "outputs": [],
   "source": []
  },
  {
   "cell_type": "markdown",
   "metadata": {},
   "source": []
  }
 ],
 "metadata": {
  "kernelspec": {
   "display_name": "Python 3",
   "language": "python",
   "name": "python3"
  },
  "language_info": {
   "codemirror_mode": {
    "name": "ipython",
    "version": 3
   },
   "file_extension": ".py",
   "mimetype": "text/x-python",
   "name": "python",
   "nbconvert_exporter": "python",
   "pygments_lexer": "ipython3",
   "version": "3.6.5"
  }
 },
 "nbformat": 4,
 "nbformat_minor": 2
}
